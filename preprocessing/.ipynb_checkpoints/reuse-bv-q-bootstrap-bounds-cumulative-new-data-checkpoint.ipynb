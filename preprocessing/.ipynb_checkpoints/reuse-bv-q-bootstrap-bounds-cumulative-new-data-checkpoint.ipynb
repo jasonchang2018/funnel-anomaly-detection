{
 "cells": [
  {
   "cell_type": "markdown",
   "metadata": {},
   "source": [
    "# To-Dos"
   ]
  },
  {
   "cell_type": "code",
   "execution_count": null,
   "metadata": {
    "scrolled": false
   },
   "outputs": [],
   "source": [
    "## Outlier Removal\n",
    "## Figure out how to fix is.na(cor(funded, cs_decisioned)) due to sd(x) = sd(y) = 0\n",
    "## Timing for Heap\n",
    "## Need to pull the 4 queries, arrange into a final DF with all funnel, with success and attempts per IBV\n",
    "    ##### make sure that the overall ibv attempts isn't crazy higher than qualified"
   ]
  },
  {
   "cell_type": "markdown",
   "metadata": {},
   "source": [
    "# Import Packages"
   ]
  },
  {
   "cell_type": "code",
   "execution_count": 2,
   "metadata": {
    "scrolled": false
   },
   "outputs": [],
   "source": [
    "check.packages = function(pkg) {\n",
    "    new.pkg = pkg[!(pkg %in% installed.packages()[, \"Package\"])]\n",
    "    if (length(new.pkg)) \n",
    "        install.packages(new.pkg, dependencies = TRUE)\n",
    "    sapply(pkg, require, character.only = TRUE)\n",
    "}"
   ]
  },
  {
   "cell_type": "code",
   "execution_count": 4,
   "metadata": {
    "scrolled": false
   },
   "outputs": [
    {
     "data": {
      "text/html": [
       "<dl class=dl-horizontal>\n",
       "\t<dt>RPostgreSQL</dt>\n",
       "\t\t<dd>TRUE</dd>\n",
       "\t<dt>RJDBC</dt>\n",
       "\t\t<dd>TRUE</dd>\n",
       "\t<dt>ggplot2</dt>\n",
       "\t\t<dd>TRUE</dd>\n",
       "\t<dt>dplyr</dt>\n",
       "\t\t<dd>TRUE</dd>\n",
       "\t<dt>gridExtra</dt>\n",
       "\t\t<dd>TRUE</dd>\n",
       "\t<dt>cowplot</dt>\n",
       "\t\t<dd>TRUE</dd>\n",
       "\t<dt>rJava</dt>\n",
       "\t\t<dd>TRUE</dd>\n",
       "\t<dt>ggpubr</dt>\n",
       "\t\t<dd>TRUE</dd>\n",
       "\t<dt>lubridate</dt>\n",
       "\t\t<dd>TRUE</dd>\n",
       "</dl>\n"
      ],
      "text/latex": [
       "\\begin{description*}\n",
       "\\item[RPostgreSQL] TRUE\n",
       "\\item[RJDBC] TRUE\n",
       "\\item[ggplot2] TRUE\n",
       "\\item[dplyr] TRUE\n",
       "\\item[gridExtra] TRUE\n",
       "\\item[cowplot] TRUE\n",
       "\\item[rJava] TRUE\n",
       "\\item[ggpubr] TRUE\n",
       "\\item[lubridate] TRUE\n",
       "\\end{description*}\n"
      ],
      "text/markdown": [
       "RPostgreSQL\n",
       ":   TRUERJDBC\n",
       ":   TRUEggplot2\n",
       ":   TRUEdplyr\n",
       ":   TRUEgridExtra\n",
       ":   TRUEcowplot\n",
       ":   TRUErJava\n",
       ":   TRUEggpubr\n",
       ":   TRUElubridate\n",
       ":   TRUE\n",
       "\n"
      ],
      "text/plain": [
       "RPostgreSQL       RJDBC     ggplot2       dplyr   gridExtra     cowplot \n",
       "       TRUE        TRUE        TRUE        TRUE        TRUE        TRUE \n",
       "      rJava      ggpubr   lubridate \n",
       "       TRUE        TRUE        TRUE "
      ]
     },
     "metadata": {},
     "output_type": "display_data"
    }
   ],
   "source": [
    "check.packages(c('RPostgreSQL', 'RJDBC', 'ggplot2', 'dplyr', 'gridExtra', 'cowplot', 'rJava', 'ggpubr', 'lubridate'))"
   ]
  },
  {
   "cell_type": "code",
   "execution_count": 5,
   "metadata": {
    "scrolled": false
   },
   "outputs": [],
   "source": [
    "## Prevent scientific notation.\n",
    "options(scipen = 999)\n",
    "\n",
    "##Turn Warnings off.\n",
    "options(warn = -1)\n",
    "\n",
    "## Warnings back on.\n",
    "# options(warn = 0)"
   ]
  },
  {
   "cell_type": "markdown",
   "metadata": {},
   "source": [
    "# Connect to Databases"
   ]
  },
  {
   "cell_type": "code",
   "execution_count": 6,
   "metadata": {
    "scrolled": false
   },
   "outputs": [],
   "source": [
    "killDbConnections = function () {\n",
    "  all_cons = dbListConnections(PostgreSQL())\n",
    "  print(all_cons)\n",
    "  for(con in all_cons)\n",
    "    +  dbDisconnect(con)\n",
    "  \n",
    "#   print(paste(length(all_cons), \" connections killed.\"))\n",
    "}"
   ]
  },
  {
   "cell_type": "code",
   "execution_count": 7,
   "metadata": {
    "scrolled": false
   },
   "outputs": [],
   "source": [
    "checkConnections = function() {\n",
    "    \n",
    "    print(paste(length(dbListConnections(PostgreSQL())), \" connections active.\"))\n",
    "}"
   ]
  },
  {
   "cell_type": "markdown",
   "metadata": {},
   "source": [
    "### Reporting"
   ]
  },
  {
   "cell_type": "code",
   "execution_count": 8,
   "metadata": {
    "scrolled": false
   },
   "outputs": [],
   "source": [
    "createReportingConnectionObject = function() {\n",
    "    \n",
    "    killDbConnections()\n",
    "    \n",
    "    drv = dbDriver('PostgreSQL')\n",
    "\n",
    "    reporting = dbConnect(\n",
    "      drv,\n",
    "      dbname = 'reporting',\n",
    "      host = 'reporting.ckpglb17yttu.us-east-1.rds.amazonaws.com',\n",
    "      port = 5432,\n",
    "      user = Sys.getenv('REPORTING_USER'),\n",
    "      password = Sys.getenv('REPORTING_PASS')\n",
    "    )\n",
    "}"
   ]
  },
  {
   "cell_type": "markdown",
   "metadata": {},
   "source": [
    "### Heap"
   ]
  },
  {
   "cell_type": "code",
   "execution_count": 9,
   "metadata": {
    "scrolled": false
   },
   "outputs": [],
   "source": [
    "createHeapConnectionObject = function() {\n",
    "    \n",
    "    killDbConnections()\n",
    "    \n",
    "    drv = dbDriver('PostgreSQL')\n",
    "\n",
    "    reporting = dbConnect(\n",
    "      drv,\n",
    "      dbname = 'oppreddb',\n",
    "      host = 'oppred.cyt7r7wgkc6b.us-east-1.redshift.amazonaws.com',\n",
    "      port = 5439,\n",
    "      user = Sys.getenv('HEAP_USER'),\n",
    "      password = Sys.getenv('HEAP_PASS')\n",
    "    )\n",
    "}"
   ]
  },
  {
   "cell_type": "markdown",
   "metadata": {},
   "source": [
    "# Get Data"
   ]
  },
  {
   "cell_type": "markdown",
   "metadata": {},
   "source": [
    "### Reporting -- Funnel"
   ]
  },
  {
   "cell_type": "code",
   "execution_count": 10,
   "metadata": {
    "scrolled": true
   },
   "outputs": [],
   "source": [
    "getFunnel = function(date.string) {\n",
    "    \n",
    "    df = dbGetQuery(\n",
    "        createReportingConnectionObject(),\n",
    "        paste(\n",
    "            \"\n",
    "            with time_limit_gmt as \n",
    "            (\n",
    "              select\n",
    "                date_trunc('hour', min(createddate_)) as createddate_\n",
    "              from\n",
    "                (\n",
    "                  select\n",
    "                    max(createddate) as createddate_\n",
    "                  from\n",
    "                    cloudlending.application_status_history\n",
    "\n",
    "                  union all\n",
    "\n",
    "                  select\n",
    "                    max(createddate) as createddate_\n",
    "                  from\n",
    "                    cloudlending.applications\n",
    "\n",
    "                  union all\n",
    "\n",
    "                  select\n",
    "                    max(createddate) as createddate_\n",
    "                  from\n",
    "                    cloudlending.microbilt_information\n",
    "                ) as latest_dates\n",
    "            )\n",
    "            select\n",
    "              (c_ash.createddate at time zone 'America/Chicago')::date as dayofyear\n",
    "              , extract(dow from c_ash.createddate at time zone 'America/Chicago') as dayofweek\n",
    "              , extract(hour from c_ash.createddate at time zone 'America/Chicago') as hourofday\n",
    "\n",
    "            --     , count(distinct case when new_value = 'NEW - ENTERED' then p_ap.loanid end) as newentered\n",
    "            --     , count(distinct case when c_ash.old_value = 'NEW - ENTERED' and c_ash.new_value = 'BUSINESS RULES PASSED' then p_ap.loanid end) as bizrulespassed\n",
    "\n",
    "              , count(distinct case when c_ash.old_value = 'BUSINESS RULES PASSED' and c_ash.new_value = 'BUREAU APPROVED'\n",
    "                                    then p_ap.loanid \n",
    "                                    end) as qualified\n",
    "\n",
    "              , count(distinct case when (c_ash.old_value = 'BANK VERIFICATION COMPLETED' and c_ash.new_value = 'NEW - SCORECARD GENERATED') or c_ash.new_value = 'BANK VERIFICATION COMPLETED'\n",
    "                                    then p_ap.loanid \n",
    "                                    end) as bankverified\n",
    "\n",
    "              , count(distinct case when c_ash.old_value = 'NEW - PRICING GENERATED' and c_ash.new_value in ('CONTRACT SIGNED', 'WAITING ON STIPULATIONS') \n",
    "                                    then p_ap.loanid \n",
    "                                    end) as passscorecardratecard\n",
    "\n",
    "              , count(distinct case when c_ash.old_value in ('NEW - PRICING GENERATED', 'WAITING ON STIPULATIONS') and c_ash.new_value = 'CONTRACT SIGNED' \n",
    "                                    then p_ap.loanid \n",
    "                                    end) as contractsigned\n",
    "\n",
    "              , count(distinct case when c_ash.old_value in ('NEW - PRICING GENERATED', 'WAITING ON STIPULATIONS') and c_ash.new_value = 'CONTRACT SIGNED' and left(p_ap.denygrp,1) not in ('4','5','8') \n",
    "                                    then p_ap.loanid \n",
    "                                    end) as cs_decisioned\n",
    "\n",
    "              , count(distinct case when c_ash.new_value = 'LOAN APPROVED'\n",
    "                                    then p_ap.loanid \n",
    "                                    end) as funded\n",
    "\n",
    "              , case  when (c_ash.createddate at time zone 'America/Chicago')::date = '\", date.string, \"'::date \n",
    "                      then 'test' \n",
    "                      else 'training' \n",
    "                      end as grouping\n",
    "\n",
    "\n",
    "              , count(distinct case when ((c_ash.old_value = 'BANK VERIFICATION COMPLETED' and c_ash.new_value = 'NEW - SCORECARD GENERATED') or c_ash.new_value = 'BANK VERIFICATION COMPLETED')\n",
    "                                    and c_mb.ibv_source = 'DecisionLogic'\n",
    "                                    and abs(extract(epoch from c_ash.createddate - c_mb.createddate)) <= 30\n",
    "                                    then p_ap.loanid \n",
    "                                    end) as \", '\"bankverified.dl\"', \"\n",
    "\n",
    "              , count(distinct case when ((c_ash.old_value = 'BANK VERIFICATION COMPLETED' and c_ash.new_value = 'NEW - SCORECARD GENERATED') or c_ash.new_value = 'BANK VERIFICATION COMPLETED')\n",
    "                                    and c_mb.ibv_source = 'MicroBilt'\n",
    "                                    and abs(extract(epoch from c_ash.createddate - c_mb.createddate)) <= 30\n",
    "                                    then p_ap.loanid \n",
    "                                    end) as \", '\"bankverified.mb\"', \"\n",
    "            from\n",
    "              public.all_allapps as p_ap\n",
    "              inner join\n",
    "                cloudlending.applications as c_app\n",
    "                on p_ap.loanid = c_app.name\n",
    "              inner join\n",
    "                cloudlending.application_status_history as c_ash\n",
    "                on c_app.id = c_ash.application\n",
    "              left join\n",
    "                cloudlending.microbilt_information as c_mb\n",
    "                on c_app.id = c_mb.application\n",
    "              inner join\n",
    "                time_limit_gmt\n",
    "                on TRUE\n",
    "            where\n",
    "              c_app.createddate < createddate_\n",
    "              and c_ash.createddate < createddate_\n",
    "              and (c_ash.createddate at time zone 'America/Chicago')::date >= '\", date.string, \"'::date - '3 months'::interval\n",
    "              and (c_ash.createddate at time zone 'America/Chicago')::date <= '\", date.string, \"'::date\n",
    "              and p_ap.refi = 'N'\n",
    "            group by\n",
    "              dayofyear\n",
    "              , dayofweek\n",
    "              , hourofday\n",
    "              , grouping\n",
    "            order by\n",
    "              dayofyear asc\n",
    "              , hourofday asc\n",
    "            \",\n",
    "            sep = ''\n",
    "        )\n",
    "    )\n",
    "    \n",
    "    return(df)\n",
    "}"
   ]
  },
  {
   "cell_type": "markdown",
   "metadata": {},
   "source": [
    "### Heap -- IBV Attempts"
   ]
  },
  {
   "cell_type": "code",
   "execution_count": 11,
   "metadata": {},
   "outputs": [],
   "source": [
    "getAttemptDLRaw = function(date.string) {\n",
    "    \n",
    "    df.heap = dbGetQuery(\n",
    "        createHeapConnectionObject(),\n",
    "        paste(\n",
    "            \"\n",
    "            select\n",
    "                h_users.\", '\"', 'identity', '\"', \" as contact\n",
    "                , h_dl.time at time zone 'GMT' at time zone 'America/Chicago' as time_\n",
    "                , 'DecisionLogic' as ibv_source\n",
    "                , case  when (h_dl.time at time zone 'GMT' at time zone 'America/Chicago')::date = '\", date.string, \"'::date\n",
    "                        then 'test'\n",
    "                        else 'training'\n",
    "                        end as grouping\n",
    "            from\n",
    "                main_production._completed_decisionlogic_iframe_ as h_dl\n",
    "                inner join\n",
    "                    main_production.users as h_users\n",
    "                    on h_dl.user_id = h_users.user_id\n",
    "            where\n",
    "                (h_dl.time at time zone 'GMT' at time zone 'America/Chicago')::date >= '\", date.string, \"'::date - '3 months'::interval\n",
    "                and (h_dl.time at time zone 'GMT' at time zone 'America/Chicago')::date <= '\", date.string, \"'::date\n",
    "            \",\n",
    "            sep = ''\n",
    "        )\n",
    "    )\n",
    "\n",
    "    df.reporting = dbGetQuery(\n",
    "        createReportingConnectionObject(),\n",
    "        paste(\n",
    "            \"\n",
    "            select\n",
    "                name\n",
    "                , createddate at time zone 'America/Chicago' as createddate_\n",
    "                , contact\n",
    "            from\n",
    "                cloudlending.applications\n",
    "            where \n",
    "              type_formula = 'New'\n",
    "              and (createddate at time zone 'America/Chicago')::date >= '\", date.string, \"'::date - '4 months'::interval\n",
    "              and (createddate at time zone 'America/Chicago')::date <= '\", date.string, \"'::date\n",
    "            \"\n",
    "        )\n",
    "    )\n",
    "    \n",
    "\n",
    "    df.merged = merge(\n",
    "        x = df.heap,\n",
    "        y = df.reporting,\n",
    "        by.x = 'contact',\n",
    "        by.y = 'contact'\n",
    "    )\n",
    "    \n",
    "    df.boxed = df.merged[\n",
    "        which(\n",
    "            df.merged$time_ >= df.merged$createddate_ & \n",
    "            as.Date(df.merged$time_) <= as.Date(df.merged$createddate_) + 15\n",
    "        ), ]\n",
    "    \n",
    "    df.unique = df.boxed %>%\n",
    "        group_by(\n",
    "            name,\n",
    "            grouping\n",
    "        ) %>%\n",
    "        summarize(\n",
    "            time_ = min(time_)\n",
    "        )\n",
    "\n",
    "    return(df.unique)\n",
    "    \n",
    "}"
   ]
  },
  {
   "cell_type": "code",
   "execution_count": 12,
   "metadata": {},
   "outputs": [],
   "source": [
    "getAttemptMBRaw = function(date.string) {\n",
    "    \n",
    "    df.heap = dbGetQuery(\n",
    "        createHeapConnectionObject(),\n",
    "        paste(\n",
    "            \"\n",
    "            select\n",
    "                h_users.\", '\"', 'identity', '\"', \" as contact\n",
    "                , h_mb.time at time zone 'GMT' at time zone 'America/Chicago' as time_\n",
    "                , 'MicroBilt' as ibv_source\n",
    "                , case  when (h_mb.time at time zone 'GMT' at time zone 'America/Chicago')::date = '\", date.string, \"'::date\n",
    "                        then 'test'\n",
    "                        else 'training'\n",
    "                        end as grouping\n",
    "            from\n",
    "                main_production._completed_microbilt_iframe_ as h_mb\n",
    "                inner join\n",
    "                    main_production.users as h_users\n",
    "                    on h_mb.user_id = h_users.user_id\n",
    "            where\n",
    "              (h_mb.time at time zone 'GMT' at time zone 'America/Chicago')::date >= '\", date.string, \"'::date - '3 months'::interval\n",
    "              and (h_mb.time at time zone 'GMT' at time zone 'America/Chicago')::date <= '\", date.string, \"'::date\n",
    "            \",\n",
    "            sep = ''\n",
    "        )\n",
    "    )\n",
    "\n",
    "    df.reporting = dbGetQuery(\n",
    "        createReportingConnectionObject(),\n",
    "        paste(\n",
    "            \"\n",
    "            select\n",
    "                name\n",
    "                , createddate at time zone 'America/Chicago' as createddate_\n",
    "                , contact\n",
    "            from\n",
    "                cloudlending.applications\n",
    "            where \n",
    "              type_formula = 'New'\n",
    "              and (createddate at time zone 'America/Chicago')::date >= '\", date.string, \"'::date - '4 months'::interval\n",
    "              and (createddate at time zone 'America/Chicago')::date <= '\", date.string, \"'::date\n",
    "            \"\n",
    "        )\n",
    "    )\n",
    "    \n",
    "\n",
    "    df.merged = merge(\n",
    "        x = df.heap,\n",
    "        y = df.reporting,\n",
    "        by.x = 'contact',\n",
    "        by.y = 'contact'\n",
    "    )\n",
    "    \n",
    "    df.boxed = df.merged[\n",
    "        which(\n",
    "            df.merged$time_ >= df.merged$createddate_ & \n",
    "            as.Date(df.merged$time_) <= as.Date(df.merged$createddate_) + 15\n",
    "        ), ]\n",
    "    \n",
    "    df.unique = df.boxed %>%\n",
    "        group_by(\n",
    "            name,\n",
    "            grouping\n",
    "        ) %>%\n",
    "        summarize(\n",
    "            time_ = min(time_)\n",
    "        )\n",
    "\n",
    "    \n",
    "    return(df.unique)\n",
    "    \n",
    "}"
   ]
  },
  {
   "cell_type": "code",
   "execution_count": 20,
   "metadata": {},
   "outputs": [],
   "source": [
    "getAttemptBothRaw = function (dl.data.raw, mb.data.raw) {\n",
    "    \n",
    "    data.both = rbind(\n",
    "        dl.data.raw, \n",
    "        mb.data.raw\n",
    "    )\n",
    "    \n",
    "    df.unique = data.both %>%\n",
    "        group_by(\n",
    "            name,\n",
    "            grouping\n",
    "        ) %>%\n",
    "        summarize(\n",
    "            time_ = min(time_)\n",
    "        )\n",
    "    \n",
    "    return(df.unique)\n",
    "    \n",
    "}"
   ]
  },
  {
   "cell_type": "code",
   "execution_count": 21,
   "metadata": {},
   "outputs": [],
   "source": [
    "getAttemptAggregate = function(data, ibv.provider = NA) {\n",
    "    \n",
    "    df.unique = data\n",
    "    \n",
    "    df.aggregated = df.unique %>%\n",
    "        group_by(\n",
    "            dayofyear = date(time_),\n",
    "            dayofweek = ifelse(\n",
    "                wday(time_, week_start = getOption(\"lubridate.week.start\", 1)) == 7,\n",
    "                0,\n",
    "                wday(time_, week_start = getOption(\"lubridate.week.start\", 1))),\n",
    "            hourofday = hour(time_),\n",
    "            grouping\n",
    "        ) %>%\n",
    "        summarize(\n",
    "            attempt.ibv = n_distinct(name)\n",
    "        )\n",
    "\n",
    "    if (!is.na(ibv.provider)) {\n",
    "        colnames(df.aggregated)[which(colnames(df.aggregated) == 'attempt.ibv')] = ifelse(\n",
    "            ibv.provider == 'DecisionLogic',\n",
    "            'attempt.dl',\n",
    "            'attempt.mb'\n",
    "        )\n",
    "    }\n",
    "    \n",
    "    return(df.aggregated)\n",
    "    \n",
    "}"
   ]
  },
  {
   "cell_type": "markdown",
   "metadata": {},
   "source": [
    "### Merge Heap to Funnel"
   ]
  },
  {
   "cell_type": "code",
   "execution_count": 22,
   "metadata": {},
   "outputs": [],
   "source": [
    "getDf = function(reporting.data, dl.data.raw, mb.data.raw) {\n",
    "    \n",
    "    dl.data = getAttemptAggregate(\n",
    "        data = dl.data.raw,\n",
    "        ibv.provider = 'DecisionLogic'\n",
    "    )\n",
    "    mb.data = getAttemptAggregate(\n",
    "        data = mb.data.raw,\n",
    "        ibv.provider = 'MicroBilt'\n",
    "    )\n",
    "    both.data = getAttemptAggregate(\n",
    "        data = getAttemptBothRaw(\n",
    "            dl.data.raw = dl.data.raw,\n",
    "            mb.data.raw = mb.data.raw\n",
    "        )\n",
    "    )\n",
    "    \n",
    "    merged.data.dl = merge(\n",
    "        x = reporting.data,\n",
    "        y = dl.data,\n",
    "        by.x = c('dayofyear', 'dayofweek', 'hourofday', 'grouping'),\n",
    "        by.y = c('dayofyear', 'dayofweek', 'hourofday', 'grouping'),\n",
    "        all.x = TRUE\n",
    "    )\n",
    "    \n",
    "    merged.data.mb = merge(\n",
    "        x = merged.data.dl,\n",
    "        y = mb.data,\n",
    "        by.x = c('dayofyear', 'dayofweek', 'hourofday', 'grouping'),\n",
    "        by.y = c('dayofyear', 'dayofweek', 'hourofday', 'grouping'),\n",
    "        all.x = TRUE\n",
    "    )\n",
    "    \n",
    "    merged.data.both = merge(\n",
    "        x = merged.data.mb,\n",
    "        y = both.data,\n",
    "        by.x = c('dayofyear', 'dayofweek', 'hourofday', 'grouping'),\n",
    "        by.y = c('dayofyear', 'dayofweek', 'hourofday', 'grouping'),\n",
    "        all.x = TRUE\n",
    "    )\n",
    "    \n",
    "    return(merged.data.both)\n",
    "    \n",
    "}"
   ]
  },
  {
   "cell_type": "code",
   "execution_count": 46,
   "metadata": {},
   "outputs": [],
   "source": [
    "limitDf = function(data, numerator.string = NA, denominator.string = NA) {\n",
    "        \n",
    "    df = data[ , which(colnames(data) %in% c('dayofyear', 'dayofweek', 'hourofday', 'grouping', denominator.string, numerator.string))]\n",
    "    df.reorder = df[ , c(\n",
    "        which(colnames(df) == 'dayofyear'),\n",
    "        which(colnames(df) == 'dayofweek'),\n",
    "        which(colnames(df) == 'hourofday'),\n",
    "        which(colnames(df) == 'grouping'),\n",
    "        which(colnames(df) == denominator.string),\n",
    "        which(colnames(df) == numerator.string))]\n",
    "    \n",
    "    colnames(df.reorder) = c('dayofyear', 'dayofweek', 'hourofday', 'grouping', 'denominator', 'numerator')\n",
    "    \n",
    "    return(df.reorder)\n",
    "}"
   ]
  },
  {
   "cell_type": "code",
   "execution_count": null,
   "metadata": {
    "scrolled": false
   },
   "outputs": [],
   "source": [
    "# ## 2018-12-18 -- Wells Fargo DL Outage\n",
    "# ## 2018-12-20 -- Everything OK\n",
    "# ## 2010-01-01 -- Complete DL Outage\n",
    "# ## 2019-01-04 -- Chase DL Errors\n",
    "# ## 2019-01-05 -- Chase DL Errors\n",
    "# ## 2019-01-06 -- Chase DL Errors\n",
    "# ## 2019-01-07 -- Chase DL Errors\n",
    "# ## 2019-01-08 -- Chase DL Errors\n",
    "# ## 2019-01-13 -- NFCU DL Errors\n",
    "# ## 2019-01-17 -- Everything OK\n",
    "# ## 2019-01-18 -- Everything OK\n",
    "# ## 2019-01-19 -- Everything OK\n",
    "# ## 2019-01-20 -- Everything OK\n",
    "# ## 2019-01-21 -- Everything OK\n",
    "# ## 2019-01-22 -- Everything OK\n",
    "# # 2019-01-23 -- Everything OK\n",
    "# # 2019-01-29 -- Early DL Issues with Chase\n",
    "# # 2019-01-30 -- FUNNEL\n",
    "\n",
    "\n",
    "\n",
    "# # df$dayofyear = as.Date(df$dayofyear)\n",
    "# # df$grouping = as.character(df$grouping)\n",
    "\n",
    "# # head(df)\n",
    "# # str(df)"
   ]
  },
  {
   "cell_type": "markdown",
   "metadata": {},
   "source": [
    "# Clean the data"
   ]
  },
  {
   "cell_type": "markdown",
   "metadata": {},
   "source": [
    "### Get Information on the \"Session_Date\""
   ]
  },
  {
   "cell_type": "code",
   "execution_count": 24,
   "metadata": {
    "scrolled": false
   },
   "outputs": [],
   "source": [
    "## Input data frame.\n",
    "## Output list of DOY, DOW, HOURS.\n",
    "\n",
    "getSessionInfo = function(data) {\n",
    "    \n",
    "    df = data\n",
    "    \n",
    "    current.date = tail(\n",
    "        df$dayofyear,\n",
    "        1\n",
    "    )\n",
    "\n",
    "    current.day = tail(\n",
    "        df$dayofweek,\n",
    "        1\n",
    "    )\n",
    "\n",
    "    current.hours = seq(\n",
    "        from = 0,\n",
    "        to = 23,\n",
    "        by = 1\n",
    "    )\n",
    "\n",
    "    session.info = list(\n",
    "        date = current.date,\n",
    "        dow = current.day,\n",
    "        hours = current.hours\n",
    "    )\n",
    "    \n",
    "    return(session.info)\n",
    "    \n",
    "}"
   ]
  },
  {
   "cell_type": "markdown",
   "metadata": {},
   "source": [
    "### Get Aggregated Data for the \"Session_Date\" (Test)"
   ]
  },
  {
   "cell_type": "code",
   "execution_count": 25,
   "metadata": {
    "scrolled": false
   },
   "outputs": [],
   "source": [
    "## Input data frame.\n",
    "## Output aggregated (cumulative) data for TEST DATA.\n",
    "\n",
    "getSessionData = function(data, cumulative) {\n",
    "    \n",
    "    ## Create local variable on the parameter:DATA \n",
    "    df = data\n",
    "    df.session = df[which(df$grouping == 'test'), ]\n",
    "\n",
    "    \n",
    "    if (cumulative == TRUE) {\n",
    "        \n",
    "        session.point.estimates = \n",
    "            df.session %>%\n",
    "            group_by(\n",
    "                dayofyear\n",
    "            ) %>%\n",
    "    #         mutate(\n",
    "            transmute(\n",
    "                hourofday = hourofday,\n",
    "                denominator.session = cumsum(denominator),\n",
    "                numerator.session = cumsum(numerator),\n",
    "                ratio.session = ifelse(\n",
    "                    cumsum(denominator) > 0,\n",
    "                    cumsum(numerator)/cumsum(denominator),\n",
    "                    0\n",
    "                )\n",
    "            )\n",
    "    } else if (cumulative == FALSE) {\n",
    "        \n",
    "        session.point.estimates = \n",
    "        df.session %>%\n",
    "        group_by(\n",
    "            dayofyear,\n",
    "            hourofday\n",
    "        ) %>%\n",
    "        summarize(\n",
    "            denominator.session = sum(denominator),\n",
    "            numerator.session = sum(numerator),\n",
    "            ratio.session = ifelse(\n",
    "                sum(denominator) > 0,\n",
    "                sum(numerator)/sum(denominator),\n",
    "                0\n",
    "            )\n",
    "        )\n",
    "    }\n",
    "    \n",
    "    return(session.point.estimates)\n",
    "}"
   ]
  },
  {
   "cell_type": "markdown",
   "metadata": {},
   "source": [
    "### Get Aggregated Data for History (Training)"
   ]
  },
  {
   "cell_type": "markdown",
   "metadata": {},
   "source": [
    "##### Make Cumulative"
   ]
  },
  {
   "cell_type": "code",
   "execution_count": 26,
   "metadata": {
    "scrolled": false
   },
   "outputs": [],
   "source": [
    "## Input data frame.\n",
    "## Output mutated (cumulative) data for TRAINING DATA.\n",
    "## Reliant on getSessionInfo().\n",
    "\n",
    "makeCumulative = function(data) {\n",
    "    \n",
    "    df = data\n",
    "    \n",
    "    df.hist = df[which(df$grouping == 'training'), ]\n",
    "    \n",
    "    df.hist.mutate = \n",
    "        df.hist[which(df.hist$dayofweek == getSessionInfo(data = df)$dow), ] %>%\n",
    "        group_by(\n",
    "            dayofyear\n",
    "        ) %>%\n",
    "        transmute(\n",
    "            dayofweek = dayofweek,\n",
    "            hourofday = hourofday,\n",
    "            denominator = cumsum(denominator),\n",
    "            numerator = cumsum(numerator)\n",
    "        )\n",
    "    \n",
    "    return(df.hist.mutate)\n",
    "    \n",
    "}"
   ]
  },
  {
   "cell_type": "markdown",
   "metadata": {},
   "source": [
    "##### Aggregate"
   ]
  },
  {
   "cell_type": "code",
   "execution_count": 27,
   "metadata": {
    "scrolled": false
   },
   "outputs": [],
   "source": [
    "## Input data frame.\n",
    "## Output aggregated (cumulative) data for TRAINNG DATA.\n",
    "## Reliant on makeCumulative().\n",
    "\n",
    "getHistoricalData = function(data, cumulative) {\n",
    "    \n",
    "    ## Create local variable on the parameter:DATA     \n",
    "    df = data\n",
    "    \n",
    "    \n",
    "    if (cumulative == TRUE) {\n",
    "    \n",
    "        df.hist.mutate = makeCumulative(data = df)\n",
    "\n",
    "        historical.point.estimates = \n",
    "            df.hist.mutate %>%\n",
    "            group_by(\n",
    "                hourofday\n",
    "            ) %>%\n",
    "            summarize(\n",
    "                denominator.hist = sum(denominator),\n",
    "                numerator.hist = sum(numerator),\n",
    "                r.hist = sum(numerator)/sum(denominator),\n",
    "                n.hist = sum(denominator),\n",
    "                sd.denominator.hist = sd(denominator),\n",
    "                sd.numerator.hist = sd(numerator),\n",
    "                mu.denominator.hist = mean(denominator),\n",
    "                corr.hist = ifelse(is.na(cor(denominator, numerator)), 0, cor(denominator, numerator)),\n",
    "                se.hist = sqrt(\n",
    "                    (\n",
    "                        (\n",
    "                            sd(numerator)^2 + \n",
    "                            sd(denominator)^2 * (sum(numerator)/sum(denominator))^2 -\n",
    "                            2 * sum(numerator)/sum(denominator) * ifelse(is.na(cor(denominator, numerator)),0,cor(denominator, numerator)) * sd(numerator) * sd(denominator)\n",
    "                        ) /\n",
    "                        (\n",
    "                            sum(denominator) *\n",
    "                            mean(denominator)^2\n",
    "                        )\n",
    "                    )\n",
    "                )\n",
    "            )\n",
    "    } else if (cumulative == FALSE) {\n",
    "\n",
    "        df.hist = df[which(df$grouping == 'training'), ]\n",
    "\n",
    "        historical.point.estimates = \n",
    "            df.hist[which(df.hist$dayofweek == getSessionInfo(data = df)$dow), ] %>%\n",
    "            group_by(\n",
    "                hourofday\n",
    "            ) %>%\n",
    "            summarize(\n",
    "                denominator.hist = sum(denominator),\n",
    "                numerator.hist = sum(numerator),\n",
    "                r.hist = sum(numerator)/sum(denominator),\n",
    "                n.hist = sum(denominator),\n",
    "                sd.denominator.hist = sd(denominator),\n",
    "                sd.numerator.hist = sd(numerator),\n",
    "                mu.denominator.hist = mean(denominator),\n",
    "                corr.hist = ifelse(is.na(cor(denominator, numerator)), 0, cor(denominator, numerator)),\n",
    "                se.hist = sqrt(\n",
    "                    (\n",
    "                        (\n",
    "                            sd(numerator)^2 + \n",
    "                            sd(denominator)^2 * (sum(numerator)/sum(denominator))^2 -\n",
    "                            2 * sum(numerator)/sum(denominator) * ifelse(is.na(cor(denominator, numerator)),0,cor(denominator, numerator)) * sd(numerator) * sd(denominator)\n",
    "                        ) /\n",
    "                        (\n",
    "                            sum(denominator) *\n",
    "                            mean(denominator)^2\n",
    "                        )\n",
    "                    )\n",
    "                )\n",
    "            )\n",
    "    }\n",
    "\n",
    "    return(historical.point.estimates)\n",
    "}"
   ]
  },
  {
   "cell_type": "markdown",
   "metadata": {},
   "source": [
    "# Run the bootstrap"
   ]
  },
  {
   "cell_type": "markdown",
   "metadata": {},
   "source": [
    "### Construct Data Frame to store final information for ggplot."
   ]
  },
  {
   "cell_type": "code",
   "execution_count": 28,
   "metadata": {
    "scrolled": false
   },
   "outputs": [],
   "source": [
    "## Input data frame.\n",
    "## Output Initialized CI data frame.\n",
    "## Reliant on getSessionDataCumulative() and getHistoricalDataCumulative().\n",
    "\n",
    "getInitialCI = function(data, cumulative) {\n",
    "    \n",
    "    df = data\n",
    "    \n",
    "    df.session = getSessionData(data = df, cumulative = cumulative)\n",
    "    df.historical = getHistoricalData(data = df, cumulative = cumulative)\n",
    "\n",
    "    ci.information = data.frame(\n",
    "\n",
    "        date.session = rep(max(as.Date(df.session$dayofyear)),24),\n",
    "        hour.session = df.historical$hourofday,\n",
    "        r.session = c(df.session$ratio.session, rep(0, 24 - length(df.session$ratio.session))),\n",
    "        r.hist = df.historical$r.hist,\n",
    "        se.hist = df.historical$se.hist,\n",
    "        z.lower = rep(0,24),\n",
    "        z.upper = rep(0,24),\n",
    "        ci.lower = rep(0,24),\n",
    "        ci.upper = rep(0,24)\n",
    "    )\n",
    "    \n",
    "    return(ci.information)\n",
    "}"
   ]
  },
  {
   "cell_type": "markdown",
   "metadata": {},
   "source": [
    "### Execute the Bootstrap."
   ]
  },
  {
   "cell_type": "code",
   "execution_count": 29,
   "metadata": {
    "scrolled": false
   },
   "outputs": [],
   "source": [
    "## Input data frame and Bootstrap parameters.\n",
    "## Output Finalized CI data frame.\n",
    "## Reliant on getInitialCI() and makeCumulative().\n",
    "\n",
    "getBootstrapInterval = function(data, cumulative, B, alpha) {\n",
    "    \n",
    "    df = data\n",
    "    \n",
    "#     ## Set Start Time.\n",
    "#     start_time = Sys.time()\n",
    "    \n",
    "    ## Initialize final output data frame.\n",
    "    ci.information = getInitialCI(data = df, cumulative = cumulative)\n",
    "    \n",
    "    \n",
    "    \n",
    "    ## Initialize data for bootstrap.\n",
    "    if (cumulative == TRUE) {\n",
    "        \n",
    "        df.training.dow = makeCumulative(data = df)\n",
    "    } else if (cumulative == FALSE) {\n",
    "        \n",
    "        df.training = df[which(df$grouping == 'training'), ]\n",
    "        df.training.dow = df.training[which(df.training$dayofweek == getSessionInfo(data = df)$dow), ]\n",
    "    }\n",
    "    \n",
    "        \n",
    "    \n",
    "    ## Initialize container for bootstrap.\n",
    "    bootstrap_z = vector(length = B)\n",
    "    \n",
    "    \n",
    "    for (i in 1:24) {\n",
    "\n",
    "        for (j in 1:B) {\n",
    "\n",
    "\n",
    "\n",
    "            ## Subset the data to the current HOD (i).\n",
    "            df.training.dow.hour = df.training.dow[which(df.training.dow$hourofday == i - 1), ]\n",
    "\n",
    "            index = seq(\n",
    "                1, \n",
    "                nrow(df.training.dow.hour)\n",
    "            )\n",
    "            resample_index = sample(\n",
    "                x = index, \n",
    "                size = length(index), \n",
    "                replace = TRUE\n",
    "            )\n",
    "            df.training.dow.hour.resample = df.training.dow.hour[resample_index, ]\n",
    "\n",
    "\n",
    "            ## Calculate statistics from the resample.\n",
    "            r = sum(df.training.dow.hour.resample$numerator)/sum(df.training.dow.hour.resample$denominator)\n",
    "            n = sum(df.training.dow.hour.resample$denominator)\n",
    "            sx = sd(df.training.dow.hour.resample$denominator)\n",
    "            sy = sd(df.training.dow.hour.resample$numerator)\n",
    "            mx = mean(df.training.dow.hour.resample$denominator)\n",
    "            corr = ifelse(is.na(cor(df.training.dow.hour.resample$numerator, df.training.dow.hour.resample$denominator)),0,cor(df.training.dow.hour.resample$numerator, df.training.dow.hour.resample$denominator))\n",
    "\n",
    "            se = sqrt(\n",
    "                (r^2*sx^2 + sy^2 - 2*r*corr*sx*sy)/\n",
    "                (n*mx^2)\n",
    "            )\n",
    "\n",
    "\n",
    "            ## Calculate statistics from the training data.\n",
    "            mu = ci.information$r.hist[i]\n",
    "\n",
    "\n",
    "            ## Calculate the bootstrap Z\n",
    "            bootstrap_z[j] = (r - mu)/se\n",
    "        }\n",
    "\n",
    "\n",
    "        ## For each hour, take Percentiles of the Bootstrap Z vector to caluclate the confidence interval for that hour.\n",
    "        bootstrap_z = sort(bootstrap_z)\n",
    "\n",
    "        ci.information$z.lower[i] = bootstrap_z[alpha/2*B]\n",
    "        ci.information$z.upper[i] = bootstrap_z[(1-alpha/2)*B]\n",
    "\n",
    "        ci.information$ci.lower = ci.information$r.hist - ci.information$z.upper * ci.information$se.hist\n",
    "        ci.information$ci.upper = ci.information$r.hist - ci.information$z.lower * ci.information$se.hist\n",
    "    }\n",
    "    \n",
    "    return(ci.information)\n",
    "}"
   ]
  },
  {
   "cell_type": "markdown",
   "metadata": {},
   "source": [
    "### Smooth the CI.Lower Line"
   ]
  },
  {
   "cell_type": "code",
   "execution_count": 30,
   "metadata": {
    "scrolled": false
   },
   "outputs": [],
   "source": [
    "smoothLowerBound = function(ci.information, iterations) {\n",
    "    \n",
    "    ci.information.smooth = ci.information\n",
    "    \n",
    "    for (i in 1:iterations) {\n",
    "    \n",
    "        for (j in (0+1):(23-1)) {\n",
    "\n",
    "            ci.information.smooth$ci.lower[which(ci.information.smooth$hour.session == j)] = mean(\n",
    "                c(ci.information.smooth$ci.lower[which(ci.information.smooth$hour.session == j)-1], ci.information.smooth$ci.lower[which(ci.information.smooth$hour.session == j)+1])\n",
    "            )\n",
    "        }        \n",
    "    }\n",
    "    \n",
    "    return(ci.information.smooth)\n",
    "\n",
    "}"
   ]
  },
  {
   "cell_type": "markdown",
   "metadata": {},
   "source": [
    "# Create the ggplot"
   ]
  },
  {
   "cell_type": "code",
   "execution_count": 31,
   "metadata": {},
   "outputs": [],
   "source": [
    "getFunnelName = function(atStatus_string) {\n",
    "    \n",
    "    return_string = ''\n",
    "    \n",
    "    if (atStatus_string == 'qualified') {\n",
    "        return_string = 'Q'\n",
    "    }\n",
    "    else if (atStatus_string == 'attempt.ibv') {\n",
    "        return_string = 'Attempt IBV'\n",
    "    }\n",
    "    else if (atStatus_string == 'attempt.dl') {\n",
    "        return_string = 'Attempt DL'\n",
    "    }\n",
    "    else if (atStatus_string == 'attempt.mb') {\n",
    "        return_string = 'Attempt MB'\n",
    "    }\n",
    "    else if (atStatus_string == 'bankverified') {\n",
    "        return_string = 'BV'\n",
    "    }\n",
    "    else if (atStatus_string == 'bankverified.dl') {\n",
    "        return_string = 'Success DL'\n",
    "    }\n",
    "    else if (atStatus_string == 'bankverified.mb') {\n",
    "        return_string = 'Success MB'\n",
    "    }\n",
    "    else if (atStatus_string == 'passscorecardratecard') {\n",
    "        return_string = 'SC'\n",
    "    }\n",
    "    else if (atStatus_string == 'contractsigned') {\n",
    "        return_string = 'CS'\n",
    "    }\n",
    "    else if (atStatus_string == 'cs_decisioned') {\n",
    "        return_string = 'CS Decisioned'\n",
    "    }\n",
    "    else if (atStatus_string == 'funded') {\n",
    "        return_string = 'F'\n",
    "    }\n",
    "    \n",
    "    return(return_string)\n",
    "    \n",
    "}"
   ]
  },
  {
   "cell_type": "code",
   "execution_count": 32,
   "metadata": {},
   "outputs": [],
   "source": [
    "getFunnelColor = function(atStatus_string) {\n",
    "    \n",
    "    color.decimal = ''\n",
    "\n",
    "    \n",
    "    if (atStatus_string == 'attempt.ibv') {\n",
    "        color.decimal = '#E76BF3'\n",
    "    }\n",
    "    else if (atStatus_string == 'bankverified.dl') {\n",
    "        color.decimal = '#00B0F6'\n",
    "    }\n",
    "    else if (atStatus_string == 'bankverified.mb') {\n",
    "        color.decimal = '#E58700'\n",
    "    }\n",
    "    else if (atStatus_string == 'bankverified') {\n",
    "        color.decimal = '#F8766D'\n",
    "    }\n",
    "    else if (atStatus_string == 'passscorecardratecard') {\n",
    "        color.decimal = '#00C0AF'\n",
    "    }\n",
    "    else if (atStatus_string == 'contractsigned') {\n",
    "        color.decimal = '#B983FF'\n",
    "    }\n",
    "    else if (atStatus_string == 'cs_decisioned') {\n",
    "        color.decimal = '#C99800'\n",
    "    }\n",
    "    else if (atStatus_string == 'funded') {\n",
    "        color.decimal = '#619CFF'\n",
    "    }\n",
    "    \n",
    "    return(color.decimal)\n",
    "    \n",
    "}"
   ]
  },
  {
   "cell_type": "code",
   "execution_count": 33,
   "metadata": {
    "scrolled": false
   },
   "outputs": [],
   "source": [
    "getBootstrapPlot = function(df.bi, numerator.string = NA, denominator.string = NA, alpha, cumulative) {\n",
    "    \n",
    "    df = df.bi\n",
    "    \n",
    "    plot.alpha = paste(round(alpha*100,0), '%', sep = '')\n",
    "    plot.cumulative = ifelse(\n",
    "        cumulative == TRUE,\n",
    "        '(Cumulative)',\n",
    "        '(Not Cumulative)'\n",
    "    )\n",
    "    \n",
    "        \n",
    "    plot.funnel = ifelse(\n",
    "        paste(getFunnelName(numerator.string),'/',getFunnelName(denominator.string), sep = '') == 'F/Q',\n",
    "        'Funding Rate',\n",
    "        paste(getFunnelName(numerator.string),'/',getFunnelName(denominator.string), sep = '')\n",
    "    )\n",
    "    plot.color = ifelse(\n",
    "        plot.funnel == 'Funding Rate',\n",
    "        '#FD61D1',\n",
    "        getFunnelColor(numerator.string)\n",
    "    )\n",
    "    \n",
    "            \n",
    "    \n",
    "    df.plot = ggplot(\n",
    "        data = df,\n",
    "        mapping = aes(\n",
    "            x = hour.session, \n",
    "            y = r.session\n",
    "        )        \n",
    "    ) +\n",
    "    geom_col(\n",
    "        fill = plot.color,\n",
    "        color = 'black'\n",
    "    ) + \n",
    "    labs(\n",
    "        x =\"Time of Day\", \n",
    "        y = \"Success/Q\", \n",
    "        title = paste(\n",
    "            df$date.session,\n",
    "            \"\\n\", \"Bars: Non-Cohorted\", plot.funnel, plot.cumulative, \n",
    "            \"\\n\", \"Line:\", plot.alpha,\"lower bound confidence interval of bars\"\n",
    "        )\n",
    "    ) + \n",
    "    geom_line(\n",
    "        aes(\n",
    "            x = hour.session, \n",
    "            y = ci.lower\n",
    "        ), \n",
    "        color = 'black', \n",
    "        size=1.5\n",
    "    ) + \n",
    "#     geom_line(\n",
    "#         aes(\n",
    "#             x = hour.session, \n",
    "#             y = ci.upper\n",
    "#         ), \n",
    "#         color = 'gray', \n",
    "#         size=1\n",
    "#     ) + \n",
    "    scale_y_continuous(\n",
    "        labels = scales::percent \n",
    "    ) + \n",
    "    scale_x_continuous(\n",
    "        breaks = seq(0,23,4)\n",
    "    )    \n",
    "    \n",
    "    return(df.plot)\n",
    "}"
   ]
  },
  {
   "cell_type": "markdown",
   "metadata": {},
   "source": [
    "# Make all the above into a function"
   ]
  },
  {
   "cell_type": "markdown",
   "metadata": {},
   "source": [
    "### Make a single plot."
   ]
  },
  {
   "cell_type": "code",
   "execution_count": 74,
   "metadata": {},
   "outputs": [],
   "source": [
    "getFinalPlot = function(\n",
    "    data,\n",
    "    numerator.string = NA, \n",
    "    denominator.string = NA,\n",
    "    cumulative,\n",
    "    B,\n",
    "    alpha,\n",
    "    smooth.iterations\n",
    ") {\n",
    "    \n",
    "#     start = Sys.time()\n",
    "\n",
    "    plot = getBootstrapPlot(\n",
    "        df.bi = smoothLowerBound(\n",
    "            ci.information = getBootstrapInterval(\n",
    "                data = data,\n",
    "                cumulative = cumulative,\n",
    "                B = B,\n",
    "                alpha = alpha\n",
    "            ),\n",
    "            iterations = smooth.iterations\n",
    "        ),\n",
    "        numerator.string = numerator.string,\n",
    "        denominator.string = denominator.string,\n",
    "        alpha = alpha,\n",
    "        cumulative = cumulative\n",
    "    )\n",
    "\n",
    "#     end = Sys.time()\n",
    "#     run.time = end - start\n",
    "    \n",
    "#     output.list = list(\n",
    "#         run.time,\n",
    "#         plot\n",
    "#     )\n",
    "    \n",
    "#     return(output.list)\n",
    "    \n",
    "    return(plot)\n",
    "    \n",
    "}"
   ]
  },
  {
   "cell_type": "code",
   "execution_count": 68,
   "metadata": {},
   "outputs": [],
   "source": [
    "# a = getFunnel(date.string = '2019-02-01')\n",
    "# b = getAttemptDLRaw(date.string = '2019-02-01')\n",
    "# c = getAttemptMBRaw(date.string = '2019-02-01')"
   ]
  },
  {
   "cell_type": "code",
   "execution_count": 69,
   "metadata": {},
   "outputs": [],
   "source": [
    "# d = getDf(\n",
    "#     reporting.data = a,\n",
    "#     dl.data.raw = b,\n",
    "#     mb.data.raw = c\n",
    "# )"
   ]
  },
  {
   "cell_type": "code",
   "execution_count": 70,
   "metadata": {},
   "outputs": [],
   "source": [
    "# e = limitDf(\n",
    "#     data = d,\n",
    "#     numerator.string = 'bankverified.dl', \n",
    "#     denominator.string = 'attempt.dl'\n",
    "# )"
   ]
  },
  {
   "cell_type": "code",
   "execution_count": 75,
   "metadata": {
    "scrolled": false
   },
   "outputs": [
    {
     "name": "stderr",
     "output_type": "stream",
     "text": [
      "geom_path: Each group consists of only one observation. Do you need to adjust\n",
      "the group aesthetic?\n",
      "geom_path: Each group consists of only one observation. Do you need to adjust\n",
      "the group aesthetic?\n",
      "geom_path: Each group consists of only one observation. Do you need to adjust\n",
      "the group aesthetic?\n",
      "geom_path: Each group consists of only one observation. Do you need to adjust\n",
      "the group aesthetic?\n",
      "geom_path: Each group consists of only one observation. Do you need to adjust\n",
      "the group aesthetic?\n"
     ]
    },
    {
     "data": {
      "image/png": "[encoded data removed]",
      "text/plain": [
       "plot without title"
      ]
     },
     "metadata": {},
     "output_type": "display_data"
    },
    {
     "data": {
      "image/png": "[encoded data removed]",
      "text/plain": [
       "plot without title"
      ]
     },
     "metadata": {},
     "output_type": "display_data"
    },
    {
     "data": {
      "image/png": "[encoded data removed]",
      "text/plain": [
       "plot without title"
      ]
     },
     "metadata": {},
     "output_type": "display_data"
    },
    {
     "data": {
      "image/png": "[encoded data removed]",
      "text/plain": [
       "plot without title"
      ]
     },
     "metadata": {},
     "output_type": "display_data"
    },
    {
     "data": {
      "image/png": "[encoded data removed]",
      "text/plain": [
       "plot without title"
      ]
     },
     "metadata": {},
     "output_type": "display_data"
    },
    {
     "data": {
      "image/png": "[encoded data removed]",
      "text/plain": [
       "plot without title"
      ]
     },
     "metadata": {},
     "output_type": "display_data"
    },
    {
     "data": {
      "image/png": "[encoded data removed]",
      "text/plain": [
       "plot without title"
      ]
     },
     "metadata": {},
     "output_type": "display_data"
    },
    {
     "data": {
      "image/png": "[encoded data removed]",
      "text/plain": [
       "plot without title"
      ]
     },
     "metadata": {},
     "output_type": "display_data"
    },
    {
     "data": {
      "image/png": "[encoded data removed]",
      "text/plain": [
       "plot without title"
      ]
     },
     "metadata": {},
     "output_type": "display_data"
    },
    {
     "data": {
      "image/png": "[encoded data removed]",
      "text/plain": [
       "plot without title"
      ]
     },
     "metadata": {},
     "output_type": "display_data"
    },
    {
     "data": {
      "image/png": "[encoded data removed]",
      "text/plain": [
       "plot without title"
      ]
     },
     "metadata": {},
     "output_type": "display_data"
    },
    {
     "data": {
      "image/png": "[encoded data removed]",
      "text/plain": [
       "plot without title"
      ]
     },
     "metadata": {},
     "output_type": "display_data"
    },
    {
     "data": {
      "image/png": "[encoded data removed]",
      "text/plain": [
       "plot without title"
      ]
     },
     "metadata": {},
     "output_type": "display_data"
    },
    {
     "data": {
      "image/png": "[encoded data removed]",
      "text/plain": [
       "plot without title"
      ]
     },
     "metadata": {},
     "output_type": "display_data"
    },
    {
     "data": {
      "image/png": "[encoded data removed]",
      "text/plain": [
       "plot without title"
      ]
     },
     "metadata": {},
     "output_type": "display_data"
    },
    {
     "data": {
      "image/png": "[encoded data removed]",
      "text/plain": [
       "plot without title"
      ]
     },
     "metadata": {},
     "output_type": "display_data"
    },
    {
     "data": {
      "image/png": "[encoded data removed]",
      "text/plain": [
       "plot without title"
      ]
     },
     "metadata": {},
     "output_type": "display_data"
    },
    {
     "data": {
      "image/png": "[encoded data removed]",
      "text/plain": [
       "plot without title"
      ]
     },
     "metadata": {},
     "output_type": "display_data"
    },
    {
     "data": {
      "text/plain": [
       "$`1`\n",
       "\n",
       "$`2`\n",
       "\n",
       "$`3`\n",
       "\n",
       "$`4`\n",
       "\n",
       "$`5`\n",
       "\n",
       "$`6`\n",
       "\n",
       "$`7`\n",
       "\n",
       "$`8`\n",
       "\n",
       "$`9`\n",
       "\n",
       "$`10`\n",
       "\n",
       "$`11`\n",
       "\n",
       "$`12`\n",
       "\n",
       "$`13`\n",
       "\n",
       "$`14`\n",
       "\n",
       "$`15`\n",
       "\n",
       "$`16`\n",
       "\n",
       "$`17`\n",
       "\n",
       "$`18`\n",
       "\n",
       "$`19`\n",
       "\n",
       "$`20`\n",
       "\n",
       "attr(,\"class\")\n",
       "[1] \"list\"      \"ggarrange\""
      ]
     },
     "metadata": {},
     "output_type": "display_data"
    },
    {
     "data": {
      "image/png": "[encoded data removed]",
      "text/plain": [
       "plot without title"
      ]
     },
     "metadata": {},
     "output_type": "display_data"
    },
    {
     "data": {
      "image/png": "[encoded data removed]",
      "text/plain": [
       "plot without title"
      ]
     },
     "metadata": {},
     "output_type": "display_data"
    }
   ],
   "source": [
    "getAllFinalPlots(\n",
    "    data = d,\n",
    "    B = 100,\n",
    "    alpha = 0.03,\n",
    "    smooth.iterations = 2    \n",
    ")"
   ]
  },
  {
   "cell_type": "markdown",
   "metadata": {},
   "source": [
    "### Create all the plots."
   ]
  },
  {
   "cell_type": "code",
   "execution_count": 54,
   "metadata": {},
   "outputs": [],
   "source": [
    "getAllFinalPlots = function(data, B, alpha, smooth.iterations) {\n",
    "    \n",
    "    start = Sys.time()\n",
    "    \n",
    "    plot.1 = getFinalPlot(\n",
    "        data = limitDf(\n",
    "            data = data,\n",
    "            numerator.string = 'bankverified.dl',\n",
    "            denominator.string = 'attempt.dl'\n",
    "        ),\n",
    "        numerator.string = 'bankverified.dl',\n",
    "        denominator.string = 'attempt.dl',\n",
    "        cumulative = TRUE,\n",
    "        B = B,\n",
    "        alpha = alpha,\n",
    "        smooth.iterations = smooth.iterations\n",
    "    )    \n",
    "    plot.2 = getFinalPlot(\n",
    "        data = limitDf(\n",
    "            data = data,\n",
    "            numerator.string = 'bankverified.dl',\n",
    "            denominator.string = 'attempt.dl'\n",
    "        ),\n",
    "        numerator.string = 'bankverified.dl',\n",
    "        denominator.string = 'attempt.dl',\n",
    "        cumulative = FALSE,\n",
    "        B = B,\n",
    "        alpha = alpha,\n",
    "        smooth.iterations = smooth.iterations\n",
    "    )    \n",
    "\n",
    "    plot.3 = getFinalPlot(\n",
    "        data = limitDf(\n",
    "            data = data,\n",
    "            numerator.string = 'bankverified.mb',\n",
    "            denominator.string = 'attempt.mb'\n",
    "        ),\n",
    "        numerator.string = 'bankverified.mb',\n",
    "        denominator.string = 'attempt.mb',\n",
    "        cumulative = TRUE,\n",
    "        B = B,\n",
    "        alpha = alpha,\n",
    "        smooth.iterations = smooth.iterations\n",
    "    )    \n",
    "    plot.4 = getFinalPlot(\n",
    "        data = limitDf(\n",
    "            data = data,\n",
    "            numerator.string = 'bankverified.mb',\n",
    "            denominator.string = 'attempt.mb'\n",
    "        ),\n",
    "        numerator.string = 'bankverified.mb',\n",
    "        denominator.string = 'attempt.mb',\n",
    "        cumulative = FALSE,\n",
    "        B = B,\n",
    "        alpha = alpha,\n",
    "        smooth.iterations = smooth.iterations\n",
    "    )\n",
    "\n",
    "    plot.5 = getFinalPlot(\n",
    "        data = limitDf(\n",
    "            data = data,\n",
    "            numerator.string = 'attempt.ibv',\n",
    "            denominator.string = 'qualified'\n",
    "        ),\n",
    "        numerator.string = 'attempt.ibv',\n",
    "        denominator.string = 'qualified',\n",
    "        cumulative = TRUE,\n",
    "        B = B,\n",
    "        alpha = alpha,\n",
    "        smooth.iterations = smooth.iterations\n",
    "    )\n",
    "    plot.6 = getFinalPlot(\n",
    "        data = limitDf(\n",
    "            data = data,\n",
    "            numerator.string = 'attempt.ibv',\n",
    "            denominator.string = 'qualified'\n",
    "        ),\n",
    "        numerator.string = 'attempt.ibv',\n",
    "        denominator.string = 'qualified',\n",
    "        cumulative = FALSE,\n",
    "        B = B,\n",
    "        alpha = alpha,\n",
    "        smooth.iterations = smooth.iterations\n",
    "    )\n",
    "\n",
    "    plot.7 = getFinalPlot(\n",
    "        data = limitDf(\n",
    "            data = data,\n",
    "            numerator.string = 'bankverified',\n",
    "            denominator.string = 'attempt.ibv'\n",
    "        ),\n",
    "        numerator.string = 'bankverified',\n",
    "        denominator.string = 'attempt.ibv',\n",
    "        cumulative = TRUE,\n",
    "        B = B,\n",
    "        alpha = alpha,\n",
    "        smooth.iterations = smooth.iterations\n",
    "    )\n",
    "    plot.8 = getFinalPlot(\n",
    "        data = limitDf(\n",
    "            data = data,\n",
    "            numerator.string = 'bankverified',\n",
    "            denominator.string = 'attempt.ibv'\n",
    "        ),\n",
    "        numerator.string = 'bankverified',\n",
    "        denominator.string = 'attempt.ibv',\n",
    "        cumulative = FALSE,\n",
    "        B = B,\n",
    "        alpha = alpha,\n",
    "        smooth.iterations = smooth.iterations\n",
    "    )\n",
    "\n",
    "    plot.9 = getFinalPlot(\n",
    "        data = limitDf(\n",
    "            data = data,\n",
    "            numerator.string = 'passscorecardratecard',\n",
    "            denominator.string = 'bankverified'\n",
    "        ),\n",
    "        numerator.string = 'passscorecardratecard',\n",
    "        denominator.string = 'bankverified',\n",
    "        cumulative = TRUE,\n",
    "        B = B,\n",
    "        alpha = alpha,\n",
    "        smooth.iterations = smooth.iterations\n",
    "    )\n",
    "    plot.10 = getFinalPlot(\n",
    "        data = limitDf(\n",
    "            data = data,\n",
    "            numerator.string = 'passscorecardratecard',\n",
    "            denominator.string = 'bankverified'\n",
    "        ),\n",
    "        numerator.string = 'passscorecardratecard',\n",
    "        denominator.string = 'bankverified',\n",
    "        cumulative = FALSE,\n",
    "        B = B,\n",
    "        alpha = alpha,\n",
    "        smooth.iterations = smooth.iterations\n",
    "    )\n",
    "\n",
    "    plot.11 = getFinalPlot(\n",
    "        data = limitDf(\n",
    "            data = data,\n",
    "            numerator.string = 'contractsigned',\n",
    "            denominator.string = 'passscorecardratecard'\n",
    "        ),\n",
    "        numerator.string = 'contractsigned',\n",
    "        denominator.string = 'passscorecardratecard',\n",
    "        cumulative = TRUE,\n",
    "        B = B,\n",
    "        alpha = alpha,\n",
    "        smooth.iterations = smooth.iterations\n",
    "    )\n",
    "    plot.12 = getFinalPlot(\n",
    "        data = limitDf(\n",
    "            data = data,\n",
    "            numerator.string = 'contractsigned',\n",
    "            denominator.string = 'passscorecardratecard'\n",
    "        ),\n",
    "        numerator.string = 'contractsigned',\n",
    "        denominator.string = 'passscorecardratecard',\n",
    "        cumulative = FALSE,\n",
    "        B = B,\n",
    "        alpha = alpha,\n",
    "        smooth.iterations = smooth.iterations\n",
    "    )\n",
    "\n",
    "    plot.13 = getFinalPlot(\n",
    "        data = limitDf(\n",
    "            data = data,\n",
    "            numerator.string = 'cs_decisioned',\n",
    "            denominator.string = 'contractsigned'\n",
    "        ),\n",
    "        numerator.string = 'cs_decisioned',\n",
    "        denominator.string = 'contractsigned',\n",
    "        cumulative = TRUE,\n",
    "        B = B,\n",
    "        alpha = alpha,\n",
    "        smooth.iterations = smooth.iterations\n",
    "    )\n",
    "    plot.14 = getFinalPlot(\n",
    "        data = limitDf(\n",
    "            data = data,\n",
    "            numerator.string = 'cs_decisioned',\n",
    "            denominator.string = 'contractsigned'\n",
    "        ),\n",
    "        numerator.string = 'cs_decisioned',\n",
    "        denominator.string = 'contractsigned',\n",
    "        cumulative = FALSE,\n",
    "        B = B,\n",
    "        alpha = alpha,\n",
    "        smooth.iterations = smooth.iterations\n",
    "    )\n",
    "\n",
    "    plot.15 = getFinalPlot(\n",
    "        data = limitDf(\n",
    "            data = data,\n",
    "            numerator.string = 'funded',\n",
    "            denominator.string = 'cs_decisioned'\n",
    "        ),\n",
    "        numerator.string = 'funded',\n",
    "        denominator.string = 'cs_decisioned',\n",
    "        cumulative = TRUE,\n",
    "        B = B,\n",
    "        alpha = alpha,\n",
    "        smooth.iterations = smooth.iterations\n",
    "    )\n",
    "    plot.16 = getFinalPlot(\n",
    "        data = limitDf(\n",
    "            data = data,\n",
    "            numerator.string = 'funded',\n",
    "            denominator.string = 'cs_decisioned'\n",
    "        ),\n",
    "        numerator.string = 'funded',\n",
    "        denominator.string = 'cs_decisioned',\n",
    "        cumulative = FALSE,\n",
    "        B = B,\n",
    "        alpha = alpha,\n",
    "        smooth.iterations = smooth.iterations\n",
    "    )\n",
    "\n",
    "    plot.17 = getFinalPlot(\n",
    "        data = limitDf(\n",
    "            data = data,\n",
    "            numerator.string = 'funded',\n",
    "            denominator.string = 'qualified'\n",
    "        ),\n",
    "        numerator.string = 'funded',\n",
    "        denominator.string = 'qualified',\n",
    "        cumulative = TRUE,\n",
    "        B = B,\n",
    "        alpha = alpha,\n",
    "        smooth.iterations = smooth.iterations\n",
    "    )\n",
    "    plot.18 = getFinalPlot(\n",
    "        data = limitDf(\n",
    "            data = data,\n",
    "            numerator.string = 'funded',\n",
    "            denominator.string = 'qualified'\n",
    "        ),\n",
    "        numerator.string = 'funded',\n",
    "        denominator.string = 'qualified',\n",
    "        cumulative = FALSE,\n",
    "        B = B,\n",
    "        alpha = alpha,\n",
    "        smooth.iterations = smooth.iterations\n",
    "    )\n",
    "    plot.19 = ggplot()\n",
    "    plot.20 = ggplot()\n",
    "    \n",
    "    all.plots = ggarrange(\n",
    "        plot.1,\n",
    "        plot.2,\n",
    "        plot.3,\n",
    "        plot.4,\n",
    "        plot.5,\n",
    "        plot.6,\n",
    "        plot.7,\n",
    "        plot.8,\n",
    "        plot.9,\n",
    "        plot.10,\n",
    "        plot.11,\n",
    "        plot.12,\n",
    "        plot.13,\n",
    "        plot.14,\n",
    "        plot.15,\n",
    "        plot.16,\n",
    "        plot.17,\n",
    "        plot.18,\n",
    "        plot.19,\n",
    "        plot.20,\n",
    "        ncol = 1\n",
    "    )\n",
    " \n",
    "    return(all.plots)\n",
    "}"
   ]
  },
  {
   "cell_type": "markdown",
   "metadata": {},
   "source": [
    "### Write all plots to a PDF."
   ]
  },
  {
   "cell_type": "code",
   "execution_count": null,
   "metadata": {},
   "outputs": [],
   "source": [
    "exportAllFinalPlots = function (data, date.string, B, alpha, smooth.iterations) {\n",
    "    \n",
    "    options(warn = -1)\n",
    "    \n",
    "    getAllFinalPlots(\n",
    "        data = data,\n",
    "        date.string = date.string, \n",
    "        B = B, \n",
    "        alpha = alpha, \n",
    "        smooth.iterations = smooth.iterations\n",
    "    ) %>%\n",
    "    ggexport(\n",
    "        filename = paste('C:/Users/jchang/Desktop/Projects/Funnel Anomaly Detection/results/', date.string, '.pdf', sep = '')\n",
    "    )    \n",
    "}"
   ]
  },
  {
   "cell_type": "markdown",
   "metadata": {},
   "source": [
    "# Execute the code."
   ]
  },
  {
   "cell_type": "code",
   "execution_count": null,
   "metadata": {},
   "outputs": [],
   "source": [
    "executeExport = function(date.string = Sys.Date(), B = 100, alpha = 0.03, smooth.iterations = 2) {\n",
    "    \n",
    "    df = getDf(\n",
    "        reporting.data = getFunnel(date.string = date.string),\n",
    "        dl.data.raw = getAttemptDLRaw(date.string = date.string),\n",
    "        mb.data.raw = getAttemptMBRaw(date.string = date.string)\n",
    "    )\n",
    "    \n",
    "    \n",
    "    exportAllFinalPlots(\n",
    "        data = df,\n",
    "        date.string = date.string,\n",
    "        B = B,\n",
    "        alpha = alpha,\n",
    "        smooth.iterations = smooth.iterations\n",
    "    )\n",
    "}"
   ]
  },
  {
   "cell_type": "code",
   "execution_count": null,
   "metadata": {},
   "outputs": [],
   "source": [
    "# getFinalExport = function(date.string = Sys.Date(), B = 100, alpha = 0.03, smooth.iterations = 2) {\n",
    "    \n",
    "#     df.dl = getDf(date.string = date.string, ibv.provider = 'DecisionLogic')\n",
    "#     df.mb = getDf(date.string = date.string, ibv.provider = 'MicroBilt')\n",
    "#     df.funnel = getDf(date.string = date.string, ibv.provider = NA)\n",
    "    \n",
    "#     exportAllFinalPlots(\n",
    "#         data.dl = df.dl,\n",
    "#         data.mb = df.mb,\n",
    "#         data.funnel = df.funnel,\n",
    "#         date.string = date.string,\n",
    "#         B = B,\n",
    "#         alpha = alpha,\n",
    "#         smooth.iterations = smooth.iterations\n",
    "#     )\n",
    "# }"
   ]
  },
  {
   "cell_type": "code",
   "execution_count": null,
   "metadata": {},
   "outputs": [],
   "source": [
    "start = Sys.time()\n",
    "\n",
    "getFinalExport()\n",
    "\n",
    "Sys.time() - start"
   ]
  },
  {
   "cell_type": "markdown",
   "metadata": {},
   "source": [
    "### Checking the plots."
   ]
  },
  {
   "cell_type": "markdown",
   "metadata": {},
   "source": [
    "### Get the Data."
   ]
  },
  {
   "cell_type": "code",
   "execution_count": null,
   "metadata": {},
   "outputs": [],
   "source": [
    "start = Sys.time()\n",
    "\n",
    "data.dl = getDf(date.string = '2019-01-31', ibv.provider = 'DecisionLogic')\n",
    "data.mb = getDf(date.string = '2019-01-31', ibv.provider = 'MicroBilt')\n",
    "data.funnel = getDf(date.string = '2019-01-31', ibv.provider = NA)\n",
    "\n",
    "Sys.time() - start"
   ]
  },
  {
   "cell_type": "markdown",
   "metadata": {},
   "source": [
    "### Export the plots to ../results"
   ]
  },
  {
   "cell_type": "code",
   "execution_count": null,
   "metadata": {},
   "outputs": [],
   "source": [
    "exportAllFinalPlots(\n",
    "    date.string = '2019-01-31',\n",
    "    B = 100,\n",
    "    alpha = 0.03,\n",
    "    smooth.iterations = 2\n",
    ")"
   ]
  },
  {
   "cell_type": "code",
   "execution_count": null,
   "metadata": {},
   "outputs": [],
   "source": []
  },
  {
   "cell_type": "code",
   "execution_count": null,
   "metadata": {
    "scrolled": false
   },
   "outputs": [],
   "source": [
    "options(warn = -1)\n",
    "out.plot = getAllFinalPlots(date.string = '2017-12-01', B = 100, alpha = 0.03, smooth.iterations = 2)\n",
    "out.plot"
   ]
  },
  {
   "cell_type": "code",
   "execution_count": null,
   "metadata": {},
   "outputs": [],
   "source": []
  },
  {
   "cell_type": "code",
   "execution_count": null,
   "metadata": {},
   "outputs": [],
   "source": [
    "pdf(paste()'C:/Users/jchang/Desktop/Projects/Funnel Anomaly Detection/results/', '')"
   ]
  },
  {
   "cell_type": "code",
   "execution_count": null,
   "metadata": {
    "scrolled": false
   },
   "outputs": [],
   "source": []
  },
  {
   "cell_type": "code",
   "execution_count": null,
   "metadata": {
    "scrolled": false
   },
   "outputs": [],
   "source": [
    "# df.bi = getBootstrapInterval(\n",
    "#     data = df,\n",
    "#     B = 5000,\n",
    "#     alpha = 0.03\n",
    "# )$ci.information\n",
    "\n",
    "# ggplot() +\n",
    "# geom_line(\n",
    "#     data = df.bi,\n",
    "#     mapping = aes(\n",
    "#         x = hour.session,\n",
    "#         y = r.session\n",
    "#     ),\n",
    "#     color = 'skyblue',\n",
    "#     size = 3\n",
    "# ) +\n",
    "# geom_line(\n",
    "#     data = df.bi,\n",
    "#     mapping = aes(\n",
    "#         x = hour.session,\n",
    "#         y = ci.lower\n",
    "#     ),\n",
    "#     color = 'red',\n",
    "#     size = 1,\n",
    "#     linetype = 6\n",
    "# ) +\n",
    "# geom_point(\n",
    "#     data = makeCumulative(data = df),\n",
    "#     mapping = aes(\n",
    "#         x = hourofday,\n",
    "#         y = dl.hist.cum/q.hist.cum\n",
    "#     ),\n",
    "#     color = 'black',\n",
    "#     size = 0.8,\n",
    "#     alpha = 0.1\n",
    "# ) +\n",
    "# # geom_ribbon(\n",
    "# #     data = makeCumulative(data = df) %>%\n",
    "# #         group_by(\n",
    "# #             hourofday\n",
    "# #         ) %>%\n",
    "# #         summarize(\n",
    "# #             ribbon.lower = min(dl.hist.cum/q.hist.cum),\n",
    "# #             ribbon.upper = max(dl.hist.cum/q.hist.cum)\n",
    "# #         ), \n",
    "# #     mapping = aes(\n",
    "# #         x = hourofday,\n",
    "# #         ymin = ribbon.lower,\n",
    "# #         ymax = ribbon.upper\n",
    "# #     ),\n",
    "# #     color = 'black',\n",
    "# #     size = 0.8,\n",
    "# #     alpha = 0.1\n",
    "# # ) +\n",
    "# scale_y_continuous(\n",
    "#     labels = scales::percent,\n",
    "# #     limits = c(\n",
    "# #         min(dl.hist.cum/q.hist.cum),\n",
    "# #         max(dl.hist.cum/q.hist.cum),\n",
    "# #     ) \n",
    "#     limits = c(0.20,0.70)\n",
    "# ) \n",
    "\n",
    "\n",
    "# # + \n",
    "# # labs(\n",
    "# #     x =\"Time of Day\", \n",
    "# #     y = \"Success/Q\", \n",
    "# #     title = paste(\n",
    "# #         \"DL \", getSessionInfo(data = df)$date,\n",
    "# #         \"\\n\", \"Bars: Non-Cohorted DL Success/Q (Cumulative)\", \n",
    "# #         \"\\n\", \"Line: 5% lower bound confidence interval of bars\")\n",
    "# # ) + \n",
    "# # geom_line(\n",
    "# #     aes(\n",
    "# #         x = hour.session, \n",
    "# #         y = ci.lower\n",
    "# #     ), \n",
    "# #     color = 'red', \n",
    "# #     size=1\n",
    "# # ) + \n",
    "# # # geom_line(\n",
    "# # #     aes(\n",
    "# # #         x = hour.session, \n",
    "# # #         y = ci.upper\n",
    "# # #     ), \n",
    "# # #     color = 'blue', \n",
    "# # #     size=1\n",
    "# # # ) + \n",
    "# # scale_x_continuous(\n",
    "# #     breaks = seq(0,23,4)\n",
    "# # )# + geom_line(aes(x=hourofday, y=upper), color='springgreen4', size=1) + scale_y_continuous(labels=scales::percent) + scale_x_continuous(breaks=seq(0,23,4))\n"
   ]
  }
 ],
 "metadata": {
  "kernelspec": {
   "display_name": "R",
   "language": "R",
   "name": "ir"
  },
  "language_info": {
   "codemirror_mode": "r",
   "file_extension": ".r",
   "mimetype": "text/x-r-source",
   "name": "R",
   "pygments_lexer": "r",
   "version": "3.5.2"
  }
 },
 "nbformat": 4,
 "nbformat_minor": 2
}
